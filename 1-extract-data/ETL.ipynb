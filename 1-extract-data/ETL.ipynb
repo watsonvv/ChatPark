{
 "cells": [
  {
   "cell_type": "markdown",
   "id": "2663fe75-9bf4-4e81-830c-48c53e5031cc",
   "metadata": {
    "tags": []
   },
   "source": [
    "# **Load and Clean**"
   ]
  },
  {
   "cell_type": "code",
   "execution_count": 34,
   "id": "b0bb4c88-a6b2-42f5-9c57-b99ebc97764a",
   "metadata": {},
   "outputs": [],
   "source": [
    "# Load All\n",
    "\n",
    "import os\n",
    "import glob\n",
    "import pandas as pd\n",
    "\n",
    "# Path to your data\n",
    "path = 'GoogleReviews-20240420T223639Z-001/GoogleReviews' \n",
    "# Get all .csv files at your path\n",
    "all_files = glob.glob(os.path.join(path, \"*.csv\"))\n",
    "\n",
    "# Initialize a list to store dataframes\n",
    "dataframes = []\n",
    "\n",
    "# Define a function to standardize column names and handle special cases\n",
    "def standardize_columns(df, filename):\n",
    "    # Rename columns to create a consistent schema\n",
    "    column_renames = {\n",
    "        'author_id': 'user_id',\n",
    "        'author_title': 'author',\n",
    "        'review_datetime_utc': 'timestamp',\n",
    "    }\n",
    "    df.rename(columns={old: new for old, new in column_renames.items() if old in df.columns}, inplace=True)\n",
    "\n",
    "    # Check if 'rating' column exists; if it does, this is a special case file\n",
    "    if 'rating' in df.columns and 'review_text' in df.columns:\n",
    "        # Switch 'rating' and 'review_text'\n",
    "        df['rating'], df['review_text'] = df['review_text'], df['rating']\n",
    "\n",
    "    # Combine 'rating' and 'review_rating' into one column, preferring 'rating' if it exists\n",
    "    if 'rating' in df.columns and 'review_rating' in df.columns:\n",
    "        df['rating'] = df['rating'].fillna(df['review_rating'])\n",
    "        df.drop(columns=['review_rating'], inplace=True, errors='ignore')\n",
    "    elif 'review_rating' in df.columns:\n",
    "        df.rename(columns={'review_rating': 'rating'}, inplace=True)\n",
    "        \n",
    "    # Add missing columns with NaNs\n",
    "    desired_columns = ['user_id', 'author', 'timestamp', 'rating', 'review_text']\n",
    "    for col in desired_columns:\n",
    "        if col not in df.columns:\n",
    "            df[col] = pd.NA\n",
    "\n",
    "    # Add the filename as a new column\n",
    "    df['file_name'] = filename.split('/')[-1]  # Get just the file name\n",
    "\n",
    "    return df\n",
    "\n",
    "# Process each file\n",
    "for filename in all_files:\n",
    "    df = pd.read_csv(filename)\n",
    "    \n",
    "    # Standardize column names and handle special cases\n",
    "    df = standardize_columns(df, filename)\n",
    "    \n",
    "    # Append to the list of dataframes\n",
    "    dataframes.append(df)\n",
    "\n",
    "# Concatenate all dataframes\n",
    "reviews_df = pd.concat(dataframes, ignore_index=True)"
   ]
  },
  {
   "cell_type": "code",
   "execution_count": 35,
   "id": "ffb8e049-28d9-47c9-b083-5ce30121f3a7",
   "metadata": {
    "tags": []
   },
   "outputs": [
    {
     "data": {
      "text/html": [
       "<div>\n",
       "<style scoped>\n",
       "    .dataframe tbody tr th:only-of-type {\n",
       "        vertical-align: middle;\n",
       "    }\n",
       "\n",
       "    .dataframe tbody tr th {\n",
       "        vertical-align: top;\n",
       "    }\n",
       "\n",
       "    .dataframe thead th {\n",
       "        text-align: right;\n",
       "    }\n",
       "</style>\n",
       "<table border=\"1\" class=\"dataframe\">\n",
       "  <thead>\n",
       "    <tr style=\"text-align: right;\">\n",
       "      <th></th>\n",
       "      <th>timestamp</th>\n",
       "      <th>author</th>\n",
       "      <th>user_id</th>\n",
       "      <th>review_text</th>\n",
       "      <th>rating</th>\n",
       "      <th>file_name</th>\n",
       "    </tr>\n",
       "  </thead>\n",
       "  <tbody>\n",
       "    <tr>\n",
       "      <th>0</th>\n",
       "      <td>02/11/2024 15:59:38</td>\n",
       "      <td>Heidy Fernandez</td>\n",
       "      <td>103360372037270387417</td>\n",
       "      <td>NaN</td>\n",
       "      <td>5</td>\n",
       "      <td>GoogleReviews\\ChIJ-5kFm5vIxokR8VHXewCN8eY_Dela...</td>\n",
       "    </tr>\n",
       "    <tr>\n",
       "      <th>1</th>\n",
       "      <td>01/26/2024 22:16:50</td>\n",
       "      <td>R J</td>\n",
       "      <td>103202524746831207554</td>\n",
       "      <td>NaN</td>\n",
       "      <td>5</td>\n",
       "      <td>GoogleReviews\\ChIJ-5kFm5vIxokR8VHXewCN8eY_Dela...</td>\n",
       "    </tr>\n",
       "    <tr>\n",
       "      <th>2</th>\n",
       "      <td>12/30/2023 19:08:54</td>\n",
       "      <td>Eleni Belisonzi</td>\n",
       "      <td>106030427780813104531</td>\n",
       "      <td>A neighbor jewel.</td>\n",
       "      <td>5</td>\n",
       "      <td>GoogleReviews\\ChIJ-5kFm5vIxokR8VHXewCN8eY_Dela...</td>\n",
       "    </tr>\n",
       "    <tr>\n",
       "      <th>3</th>\n",
       "      <td>09/05/2023 14:40:24</td>\n",
       "      <td>Tom Donald</td>\n",
       "      <td>110477736284587831432</td>\n",
       "      <td>NaN</td>\n",
       "      <td>5</td>\n",
       "      <td>GoogleReviews\\ChIJ-5kFm5vIxokR8VHXewCN8eY_Dela...</td>\n",
       "    </tr>\n",
       "    <tr>\n",
       "      <th>4</th>\n",
       "      <td>08/18/2023 19:13:19</td>\n",
       "      <td>Evan Gray</td>\n",
       "      <td>117127716926195155753</td>\n",
       "      <td>NaN</td>\n",
       "      <td>5</td>\n",
       "      <td>GoogleReviews\\ChIJ-5kFm5vIxokR8VHXewCN8eY_Dela...</td>\n",
       "    </tr>\n",
       "  </tbody>\n",
       "</table>\n",
       "</div>"
      ],
      "text/plain": [
       "             timestamp           author                user_id  \\\n",
       "0  02/11/2024 15:59:38  Heidy Fernandez  103360372037270387417   \n",
       "1  01/26/2024 22:16:50              R J  103202524746831207554   \n",
       "2  12/30/2023 19:08:54  Eleni Belisonzi  106030427780813104531   \n",
       "3  09/05/2023 14:40:24       Tom Donald  110477736284587831432   \n",
       "4  08/18/2023 19:13:19        Evan Gray  117127716926195155753   \n",
       "\n",
       "         review_text  rating  \\\n",
       "0                NaN       5   \n",
       "1                NaN       5   \n",
       "2  A neighbor jewel.       5   \n",
       "3                NaN       5   \n",
       "4                NaN       5   \n",
       "\n",
       "                                           file_name  \n",
       "0  GoogleReviews\\ChIJ-5kFm5vIxokR8VHXewCN8eY_Dela...  \n",
       "1  GoogleReviews\\ChIJ-5kFm5vIxokR8VHXewCN8eY_Dela...  \n",
       "2  GoogleReviews\\ChIJ-5kFm5vIxokR8VHXewCN8eY_Dela...  \n",
       "3  GoogleReviews\\ChIJ-5kFm5vIxokR8VHXewCN8eY_Dela...  \n",
       "4  GoogleReviews\\ChIJ-5kFm5vIxokR8VHXewCN8eY_Dela...  "
      ]
     },
     "execution_count": 35,
     "metadata": {},
     "output_type": "execute_result"
    }
   ],
   "source": [
    "reviews_df.head()"
   ]
  },
  {
   "cell_type": "code",
   "execution_count": 36,
   "id": "520878ba-361d-41d5-907a-9e2e4b699c46",
   "metadata": {
    "tags": []
   },
   "outputs": [],
   "source": [
    "def extract_place_id(file_name):\n",
    "    return file_name.split('\\\\')[-1][:27]\n",
    "\n",
    "reviews_df['place_id'] = reviews_df['file_name'].apply(extract_place_id)"
   ]
  },
  {
   "cell_type": "code",
   "execution_count": 37,
   "id": "67cee577-72ca-46a7-a45a-05104b24602c",
   "metadata": {
    "tags": []
   },
   "outputs": [
    {
     "data": {
      "text/html": [
       "<div>\n",
       "<style scoped>\n",
       "    .dataframe tbody tr th:only-of-type {\n",
       "        vertical-align: middle;\n",
       "    }\n",
       "\n",
       "    .dataframe tbody tr th {\n",
       "        vertical-align: top;\n",
       "    }\n",
       "\n",
       "    .dataframe thead th {\n",
       "        text-align: right;\n",
       "    }\n",
       "</style>\n",
       "<table border=\"1\" class=\"dataframe\">\n",
       "  <thead>\n",
       "    <tr style=\"text-align: right;\">\n",
       "      <th></th>\n",
       "      <th>timestamp</th>\n",
       "      <th>author</th>\n",
       "      <th>user_id</th>\n",
       "      <th>review_text</th>\n",
       "      <th>rating</th>\n",
       "      <th>file_name</th>\n",
       "      <th>place_id</th>\n",
       "    </tr>\n",
       "  </thead>\n",
       "  <tbody>\n",
       "    <tr>\n",
       "      <th>0</th>\n",
       "      <td>02/11/2024 15:59:38</td>\n",
       "      <td>Heidy Fernandez</td>\n",
       "      <td>103360372037270387417</td>\n",
       "      <td>NaN</td>\n",
       "      <td>5</td>\n",
       "      <td>GoogleReviews\\ChIJ-5kFm5vIxokR8VHXewCN8eY_Dela...</td>\n",
       "      <td>ChIJ-5kFm5vIxokR8VHXewCN8eY</td>\n",
       "    </tr>\n",
       "    <tr>\n",
       "      <th>1</th>\n",
       "      <td>01/26/2024 22:16:50</td>\n",
       "      <td>R J</td>\n",
       "      <td>103202524746831207554</td>\n",
       "      <td>NaN</td>\n",
       "      <td>5</td>\n",
       "      <td>GoogleReviews\\ChIJ-5kFm5vIxokR8VHXewCN8eY_Dela...</td>\n",
       "      <td>ChIJ-5kFm5vIxokR8VHXewCN8eY</td>\n",
       "    </tr>\n",
       "    <tr>\n",
       "      <th>2</th>\n",
       "      <td>12/30/2023 19:08:54</td>\n",
       "      <td>Eleni Belisonzi</td>\n",
       "      <td>106030427780813104531</td>\n",
       "      <td>A neighbor jewel.</td>\n",
       "      <td>5</td>\n",
       "      <td>GoogleReviews\\ChIJ-5kFm5vIxokR8VHXewCN8eY_Dela...</td>\n",
       "      <td>ChIJ-5kFm5vIxokR8VHXewCN8eY</td>\n",
       "    </tr>\n",
       "    <tr>\n",
       "      <th>3</th>\n",
       "      <td>09/05/2023 14:40:24</td>\n",
       "      <td>Tom Donald</td>\n",
       "      <td>110477736284587831432</td>\n",
       "      <td>NaN</td>\n",
       "      <td>5</td>\n",
       "      <td>GoogleReviews\\ChIJ-5kFm5vIxokR8VHXewCN8eY_Dela...</td>\n",
       "      <td>ChIJ-5kFm5vIxokR8VHXewCN8eY</td>\n",
       "    </tr>\n",
       "    <tr>\n",
       "      <th>4</th>\n",
       "      <td>08/18/2023 19:13:19</td>\n",
       "      <td>Evan Gray</td>\n",
       "      <td>117127716926195155753</td>\n",
       "      <td>NaN</td>\n",
       "      <td>5</td>\n",
       "      <td>GoogleReviews\\ChIJ-5kFm5vIxokR8VHXewCN8eY_Dela...</td>\n",
       "      <td>ChIJ-5kFm5vIxokR8VHXewCN8eY</td>\n",
       "    </tr>\n",
       "  </tbody>\n",
       "</table>\n",
       "</div>"
      ],
      "text/plain": [
       "             timestamp           author                user_id  \\\n",
       "0  02/11/2024 15:59:38  Heidy Fernandez  103360372037270387417   \n",
       "1  01/26/2024 22:16:50              R J  103202524746831207554   \n",
       "2  12/30/2023 19:08:54  Eleni Belisonzi  106030427780813104531   \n",
       "3  09/05/2023 14:40:24       Tom Donald  110477736284587831432   \n",
       "4  08/18/2023 19:13:19        Evan Gray  117127716926195155753   \n",
       "\n",
       "         review_text  rating  \\\n",
       "0                NaN       5   \n",
       "1                NaN       5   \n",
       "2  A neighbor jewel.       5   \n",
       "3                NaN       5   \n",
       "4                NaN       5   \n",
       "\n",
       "                                           file_name  \\\n",
       "0  GoogleReviews\\ChIJ-5kFm5vIxokR8VHXewCN8eY_Dela...   \n",
       "1  GoogleReviews\\ChIJ-5kFm5vIxokR8VHXewCN8eY_Dela...   \n",
       "2  GoogleReviews\\ChIJ-5kFm5vIxokR8VHXewCN8eY_Dela...   \n",
       "3  GoogleReviews\\ChIJ-5kFm5vIxokR8VHXewCN8eY_Dela...   \n",
       "4  GoogleReviews\\ChIJ-5kFm5vIxokR8VHXewCN8eY_Dela...   \n",
       "\n",
       "                      place_id  \n",
       "0  ChIJ-5kFm5vIxokR8VHXewCN8eY  \n",
       "1  ChIJ-5kFm5vIxokR8VHXewCN8eY  \n",
       "2  ChIJ-5kFm5vIxokR8VHXewCN8eY  \n",
       "3  ChIJ-5kFm5vIxokR8VHXewCN8eY  \n",
       "4  ChIJ-5kFm5vIxokR8VHXewCN8eY  "
      ]
     },
     "execution_count": 37,
     "metadata": {},
     "output_type": "execute_result"
    }
   ],
   "source": [
    "reviews_df.head()"
   ]
  },
  {
   "cell_type": "code",
   "execution_count": 38,
   "id": "3148bccf-c1eb-42ad-b400-9a7077c268f8",
   "metadata": {
    "tags": []
   },
   "outputs": [],
   "source": [
    "reviews_df.to_csv('combined_reviews.csv', index=False)"
   ]
  },
  {
   "cell_type": "code",
   "execution_count": 39,
   "id": "c356761d-e61b-43e0-b2a0-7147793706d3",
   "metadata": {
    "tags": []
   },
   "outputs": [],
   "source": [
    "ppr_df = pd.read_csv('PPR-parks-April17.csv')"
   ]
  },
  {
   "cell_type": "code",
   "execution_count": 40,
   "id": "9ebf7b6c-ebba-4ff2-8319-c6a3f3fbf815",
   "metadata": {
    "tags": []
   },
   "outputs": [],
   "source": [
    "reviews_df = reviews_df.merge(ppr_df[['GoogleID', 'ParkName', 'Lat', 'Long']], \n",
    "                                left_on='place_id', \n",
    "                                right_on='GoogleID', \n",
    "                                how='left')\n",
    "\n",
    "# Drop the now redundant 'GoogleID' column\n",
    "reviews_df.drop('GoogleID', axis=1, inplace=True)\n",
    "\n",
    "# Save the merged dataframe to a new CSV file, if needed\n",
    "reviews_df.to_csv('combined_reviews_with_park_info.csv', index=False)"
   ]
  },
  {
   "cell_type": "code",
   "execution_count": 41,
   "id": "d5cd6e38-fb0d-4a2d-8b96-6472ad21ab01",
   "metadata": {
    "tags": []
   },
   "outputs": [],
   "source": [
    "FDR = \"Tacony Creek Park\"\n",
    "\n",
    "# Create a list of place_ids to update based on the second image\n",
    "FDR_place_ids_to_update = [\n",
    "    'ChIJjQO6UDTFxokRKwipjcz5Q5o',\n",
    "    'ChIJB37Luk_FxokRSxEC_QgGmAU',\n",
    "    'ChIJm1IODzjFxokREo4XLuKy_WQ',\n",
    "    'ChIJa8NFISXFxokRyfcKW9fOUTU',\n",
    "    'ChIJQ0ZFt63FxokRqkfAi0r4wPQ',\n",
    "    'ChIJobR0mq63xokRiBpks2cGAo0',\n",
    "    'ChIJZTP18zXFxokRZSENwg8ci8o']\n",
    "\n",
    "for pid in FDR_place_ids_to_update:\n",
    "    reviews_df.loc[reviews_df['place_id'] == pid, 'ParkName'] = FDR"
   ]
  },
  {
   "cell_type": "code",
   "execution_count": 42,
   "id": "84d4fc5b-af6e-4bfb-8a8a-8231b2330efa",
   "metadata": {
    "tags": []
   },
   "outputs": [
    {
     "data": {
      "text/plain": [
       "4352"
      ]
     },
     "execution_count": 42,
     "metadata": {},
     "output_type": "execute_result"
    }
   ],
   "source": [
    "len(reviews_df[reviews_df['ParkName'] == 'Franklin Delano Roosevelt Park'])\n",
    "\n",
    "## orginal 4338, should worked"
   ]
  },
  {
   "cell_type": "code",
   "execution_count": 43,
   "id": "1e66b9be-7abd-4768-9874-b55b136e5e7d",
   "metadata": {
    "tags": []
   },
   "outputs": [],
   "source": [
    "Tacony = \"Tacony Creek Park\"\n",
    "\n",
    "# Create a list of place_ids to update based on the second image\n",
    "Tacony_place_ids_to_update = [\n",
    "    'ChIJcf8po0u2xokRjKskdO6gjg4',\n",
    "    'ChIJ26qgUku2xokRWu2KHZAoxso',\n",
    "    'ChIJd_QXFbK3xokR6p-tgQG1jsA',\n",
    "    'ChIJp-fcuq63xokReHv464Y-4jw',\n",
    "    'ChIJpRYFA0u2xokRqCSGUUT3NTc',\n",
    "    'ChIJobR0mq63xokRiBpks2cGAo0',\n",
    "    'ChIJ_UE-k022xokRkn8Tn8lEZo0']\n",
    "\n",
    "for pid in Tacony_place_ids_to_update:\n",
    "    reviews_df.loc[reviews_df['place_id'] == pid, 'ParkName'] = Tacony"
   ]
  },
  {
   "cell_type": "code",
   "execution_count": 51,
   "id": "6a77bcdc-8a59-4bf6-83f4-b73b40408502",
   "metadata": {
    "tags": []
   },
   "outputs": [
    {
     "data": {
      "text/plain": [
       "2260"
      ]
     },
     "execution_count": 51,
     "metadata": {},
     "output_type": "execute_result"
    }
   ],
   "source": [
    "len(reviews_df[reviews_df['ParkName'] == 'Tacony Creek Park'])\n",
    "\n",
    "## originally 1759"
   ]
  },
  {
   "cell_type": "code",
   "execution_count": 46,
   "id": "85e92709-d368-47b4-b9d4-095bc614fb35",
   "metadata": {
    "tags": []
   },
   "outputs": [
    {
     "data": {
      "text/plain": [
       "86007"
      ]
     },
     "execution_count": 46,
     "metadata": {},
     "output_type": "execute_result"
    }
   ],
   "source": [
    "len(reviews_df)"
   ]
  },
  {
   "cell_type": "code",
   "execution_count": 48,
   "id": "9761e9de-5ae4-4e95-a245-3d1233640389",
   "metadata": {
    "tags": []
   },
   "outputs": [
    {
     "data": {
      "text/html": [
       "<div>\n",
       "<style scoped>\n",
       "    .dataframe tbody tr th:only-of-type {\n",
       "        vertical-align: middle;\n",
       "    }\n",
       "\n",
       "    .dataframe tbody tr th {\n",
       "        vertical-align: top;\n",
       "    }\n",
       "\n",
       "    .dataframe thead th {\n",
       "        text-align: right;\n",
       "    }\n",
       "</style>\n",
       "<table border=\"1\" class=\"dataframe\">\n",
       "  <thead>\n",
       "    <tr style=\"text-align: right;\">\n",
       "      <th></th>\n",
       "      <th>timestamp</th>\n",
       "      <th>author</th>\n",
       "      <th>user_id</th>\n",
       "      <th>review_text</th>\n",
       "      <th>rating</th>\n",
       "      <th>file_name</th>\n",
       "      <th>place_id</th>\n",
       "      <th>ParkName</th>\n",
       "      <th>Lat</th>\n",
       "      <th>Long</th>\n",
       "    </tr>\n",
       "  </thead>\n",
       "  <tbody>\n",
       "    <tr>\n",
       "      <th>0</th>\n",
       "      <td>02/11/2024 15:59:38</td>\n",
       "      <td>Heidy Fernandez</td>\n",
       "      <td>103360372037270387417</td>\n",
       "      <td>NaN</td>\n",
       "      <td>5</td>\n",
       "      <td>GoogleReviews\\ChIJ-5kFm5vIxokR8VHXewCN8eY_Dela...</td>\n",
       "      <td>ChIJ-5kFm5vIxokR8VHXewCN8eY</td>\n",
       "      <td>Delancey Park</td>\n",
       "      <td>39.94408</td>\n",
       "      <td>-75.1479</td>\n",
       "    </tr>\n",
       "    <tr>\n",
       "      <th>1</th>\n",
       "      <td>01/26/2024 22:16:50</td>\n",
       "      <td>R J</td>\n",
       "      <td>103202524746831207554</td>\n",
       "      <td>NaN</td>\n",
       "      <td>5</td>\n",
       "      <td>GoogleReviews\\ChIJ-5kFm5vIxokR8VHXewCN8eY_Dela...</td>\n",
       "      <td>ChIJ-5kFm5vIxokR8VHXewCN8eY</td>\n",
       "      <td>Delancey Park</td>\n",
       "      <td>39.94408</td>\n",
       "      <td>-75.1479</td>\n",
       "    </tr>\n",
       "    <tr>\n",
       "      <th>2</th>\n",
       "      <td>12/30/2023 19:08:54</td>\n",
       "      <td>Eleni Belisonzi</td>\n",
       "      <td>106030427780813104531</td>\n",
       "      <td>A neighbor jewel.</td>\n",
       "      <td>5</td>\n",
       "      <td>GoogleReviews\\ChIJ-5kFm5vIxokR8VHXewCN8eY_Dela...</td>\n",
       "      <td>ChIJ-5kFm5vIxokR8VHXewCN8eY</td>\n",
       "      <td>Delancey Park</td>\n",
       "      <td>39.94408</td>\n",
       "      <td>-75.1479</td>\n",
       "    </tr>\n",
       "    <tr>\n",
       "      <th>3</th>\n",
       "      <td>09/05/2023 14:40:24</td>\n",
       "      <td>Tom Donald</td>\n",
       "      <td>110477736284587831432</td>\n",
       "      <td>NaN</td>\n",
       "      <td>5</td>\n",
       "      <td>GoogleReviews\\ChIJ-5kFm5vIxokR8VHXewCN8eY_Dela...</td>\n",
       "      <td>ChIJ-5kFm5vIxokR8VHXewCN8eY</td>\n",
       "      <td>Delancey Park</td>\n",
       "      <td>39.94408</td>\n",
       "      <td>-75.1479</td>\n",
       "    </tr>\n",
       "    <tr>\n",
       "      <th>4</th>\n",
       "      <td>08/18/2023 19:13:19</td>\n",
       "      <td>Evan Gray</td>\n",
       "      <td>117127716926195155753</td>\n",
       "      <td>NaN</td>\n",
       "      <td>5</td>\n",
       "      <td>GoogleReviews\\ChIJ-5kFm5vIxokR8VHXewCN8eY_Dela...</td>\n",
       "      <td>ChIJ-5kFm5vIxokR8VHXewCN8eY</td>\n",
       "      <td>Delancey Park</td>\n",
       "      <td>39.94408</td>\n",
       "      <td>-75.1479</td>\n",
       "    </tr>\n",
       "  </tbody>\n",
       "</table>\n",
       "</div>"
      ],
      "text/plain": [
       "             timestamp           author                user_id  \\\n",
       "0  02/11/2024 15:59:38  Heidy Fernandez  103360372037270387417   \n",
       "1  01/26/2024 22:16:50              R J  103202524746831207554   \n",
       "2  12/30/2023 19:08:54  Eleni Belisonzi  106030427780813104531   \n",
       "3  09/05/2023 14:40:24       Tom Donald  110477736284587831432   \n",
       "4  08/18/2023 19:13:19        Evan Gray  117127716926195155753   \n",
       "\n",
       "         review_text  rating  \\\n",
       "0                NaN       5   \n",
       "1                NaN       5   \n",
       "2  A neighbor jewel.       5   \n",
       "3                NaN       5   \n",
       "4                NaN       5   \n",
       "\n",
       "                                           file_name  \\\n",
       "0  GoogleReviews\\ChIJ-5kFm5vIxokR8VHXewCN8eY_Dela...   \n",
       "1  GoogleReviews\\ChIJ-5kFm5vIxokR8VHXewCN8eY_Dela...   \n",
       "2  GoogleReviews\\ChIJ-5kFm5vIxokR8VHXewCN8eY_Dela...   \n",
       "3  GoogleReviews\\ChIJ-5kFm5vIxokR8VHXewCN8eY_Dela...   \n",
       "4  GoogleReviews\\ChIJ-5kFm5vIxokR8VHXewCN8eY_Dela...   \n",
       "\n",
       "                      place_id       ParkName       Lat     Long  \n",
       "0  ChIJ-5kFm5vIxokR8VHXewCN8eY  Delancey Park  39.94408 -75.1479  \n",
       "1  ChIJ-5kFm5vIxokR8VHXewCN8eY  Delancey Park  39.94408 -75.1479  \n",
       "2  ChIJ-5kFm5vIxokR8VHXewCN8eY  Delancey Park  39.94408 -75.1479  \n",
       "3  ChIJ-5kFm5vIxokR8VHXewCN8eY  Delancey Park  39.94408 -75.1479  \n",
       "4  ChIJ-5kFm5vIxokR8VHXewCN8eY  Delancey Park  39.94408 -75.1479  "
      ]
     },
     "execution_count": 48,
     "metadata": {},
     "output_type": "execute_result"
    }
   ],
   "source": [
    "reviews_df.head()"
   ]
  },
  {
   "cell_type": "code",
   "execution_count": 49,
   "id": "fe636687-f4ea-4e5b-98f6-dbfca1b038dd",
   "metadata": {
    "tags": []
   },
   "outputs": [
    {
     "data": {
      "text/plain": [
       "164"
      ]
     },
     "execution_count": 49,
     "metadata": {},
     "output_type": "execute_result"
    }
   ],
   "source": [
    "len(reviews_df['ParkName'].unique())\n",
    "\n",
    "## Merged some park names to the larger parks but lat and long and place-id was original"
   ]
  },
  {
   "cell_type": "code",
   "execution_count": 50,
   "id": "a9fd8f43-3c06-47e5-87d6-5b8e572f888a",
   "metadata": {
    "tags": []
   },
   "outputs": [],
   "source": [
    "reviews_df.to_csv('combined_reviews_with_park_info.csv', index=False)"
   ]
  },
  {
   "cell_type": "markdown",
   "id": "65c6297f-8787-4f22-90f8-6862adeba13f",
   "metadata": {
    "tags": []
   },
   "source": [
    "## **Filter: parks with over 25 reviews**"
   ]
  },
  {
   "cell_type": "code",
   "execution_count": 55,
   "id": "e94b12c5-d30e-4781-bec2-99b3da4d5340",
   "metadata": {},
   "outputs": [
    {
     "data": {
      "text/html": [
       "<div>\n",
       "<style scoped>\n",
       "    .dataframe tbody tr th:only-of-type {\n",
       "        vertical-align: middle;\n",
       "    }\n",
       "\n",
       "    .dataframe tbody tr th {\n",
       "        vertical-align: top;\n",
       "    }\n",
       "\n",
       "    .dataframe thead th {\n",
       "        text-align: right;\n",
       "    }\n",
       "</style>\n",
       "<table border=\"1\" class=\"dataframe\">\n",
       "  <thead>\n",
       "    <tr style=\"text-align: right;\">\n",
       "      <th></th>\n",
       "      <th>timestamp</th>\n",
       "      <th>author</th>\n",
       "      <th>user_id</th>\n",
       "      <th>review_text</th>\n",
       "      <th>rating</th>\n",
       "      <th>place_id</th>\n",
       "      <th>ParkName</th>\n",
       "      <th>Lat</th>\n",
       "      <th>Long</th>\n",
       "    </tr>\n",
       "  </thead>\n",
       "  <tbody>\n",
       "    <tr>\n",
       "      <th>0</th>\n",
       "      <td>02/11/2024 15:59:38</td>\n",
       "      <td>Heidy Fernandez</td>\n",
       "      <td>103360372037270387417</td>\n",
       "      <td>NaN</td>\n",
       "      <td>5</td>\n",
       "      <td>ChIJ-5kFm5vIxokR8VHXewCN8eY</td>\n",
       "      <td>Delancey Park</td>\n",
       "      <td>39.94408</td>\n",
       "      <td>-75.1479</td>\n",
       "    </tr>\n",
       "    <tr>\n",
       "      <th>1</th>\n",
       "      <td>01/26/2024 22:16:50</td>\n",
       "      <td>R J</td>\n",
       "      <td>103202524746831207554</td>\n",
       "      <td>NaN</td>\n",
       "      <td>5</td>\n",
       "      <td>ChIJ-5kFm5vIxokR8VHXewCN8eY</td>\n",
       "      <td>Delancey Park</td>\n",
       "      <td>39.94408</td>\n",
       "      <td>-75.1479</td>\n",
       "    </tr>\n",
       "    <tr>\n",
       "      <th>2</th>\n",
       "      <td>12/30/2023 19:08:54</td>\n",
       "      <td>Eleni Belisonzi</td>\n",
       "      <td>106030427780813104531</td>\n",
       "      <td>A neighbor jewel.</td>\n",
       "      <td>5</td>\n",
       "      <td>ChIJ-5kFm5vIxokR8VHXewCN8eY</td>\n",
       "      <td>Delancey Park</td>\n",
       "      <td>39.94408</td>\n",
       "      <td>-75.1479</td>\n",
       "    </tr>\n",
       "    <tr>\n",
       "      <th>3</th>\n",
       "      <td>09/05/2023 14:40:24</td>\n",
       "      <td>Tom Donald</td>\n",
       "      <td>110477736284587831432</td>\n",
       "      <td>NaN</td>\n",
       "      <td>5</td>\n",
       "      <td>ChIJ-5kFm5vIxokR8VHXewCN8eY</td>\n",
       "      <td>Delancey Park</td>\n",
       "      <td>39.94408</td>\n",
       "      <td>-75.1479</td>\n",
       "    </tr>\n",
       "    <tr>\n",
       "      <th>4</th>\n",
       "      <td>08/18/2023 19:13:19</td>\n",
       "      <td>Evan Gray</td>\n",
       "      <td>117127716926195155753</td>\n",
       "      <td>NaN</td>\n",
       "      <td>5</td>\n",
       "      <td>ChIJ-5kFm5vIxokR8VHXewCN8eY</td>\n",
       "      <td>Delancey Park</td>\n",
       "      <td>39.94408</td>\n",
       "      <td>-75.1479</td>\n",
       "    </tr>\n",
       "  </tbody>\n",
       "</table>\n",
       "</div>"
      ],
      "text/plain": [
       "             timestamp           author                user_id  \\\n",
       "0  02/11/2024 15:59:38  Heidy Fernandez  103360372037270387417   \n",
       "1  01/26/2024 22:16:50              R J  103202524746831207554   \n",
       "2  12/30/2023 19:08:54  Eleni Belisonzi  106030427780813104531   \n",
       "3  09/05/2023 14:40:24       Tom Donald  110477736284587831432   \n",
       "4  08/18/2023 19:13:19        Evan Gray  117127716926195155753   \n",
       "\n",
       "         review_text  rating                     place_id       ParkName  \\\n",
       "0                NaN       5  ChIJ-5kFm5vIxokR8VHXewCN8eY  Delancey Park   \n",
       "1                NaN       5  ChIJ-5kFm5vIxokR8VHXewCN8eY  Delancey Park   \n",
       "2  A neighbor jewel.       5  ChIJ-5kFm5vIxokR8VHXewCN8eY  Delancey Park   \n",
       "3                NaN       5  ChIJ-5kFm5vIxokR8VHXewCN8eY  Delancey Park   \n",
       "4                NaN       5  ChIJ-5kFm5vIxokR8VHXewCN8eY  Delancey Park   \n",
       "\n",
       "        Lat     Long  \n",
       "0  39.94408 -75.1479  \n",
       "1  39.94408 -75.1479  \n",
       "2  39.94408 -75.1479  \n",
       "3  39.94408 -75.1479  \n",
       "4  39.94408 -75.1479  "
      ]
     },
     "execution_count": 55,
     "metadata": {},
     "output_type": "execute_result"
    }
   ],
   "source": [
    "reviews_df = reviews_df.drop('file_name', axis=1)\n",
    "\n",
    "reviews_df = reviews_df.groupby('ParkName').filter(lambda x: x['review_text'].count() >= 25)\n",
    "\n",
    "\n",
    "reviews_df.head()"
   ]
  },
  {
   "cell_type": "code",
   "execution_count": 56,
   "id": "682948c9-5cad-4d04-ba71-25e69ea9069f",
   "metadata": {
    "tags": []
   },
   "outputs": [
    {
     "data": {
      "text/plain": [
       "93"
      ]
     },
     "execution_count": 56,
     "metadata": {},
     "output_type": "execute_result"
    }
   ],
   "source": [
    "len(reviews_df['ParkName'].unique())"
   ]
  },
  {
   "cell_type": "code",
   "execution_count": 57,
   "id": "7a73cf00-afd2-48c2-b7e2-da38d2704861",
   "metadata": {
    "tags": []
   },
   "outputs": [],
   "source": [
    "reviews_df.to_csv('combined_reviews_with_park_info_over_25reviews.csv', index=False)"
   ]
  },
  {
   "cell_type": "markdown",
   "id": "0586e062-d26e-43f3-a24d-a9cd7cdb7874",
   "metadata": {
    "tags": []
   },
   "source": [
    "# **Basic Exploration**"
   ]
  },
  {
   "cell_type": "code",
   "execution_count": null,
   "id": "7a0b4e6f-6ec5-4017-982c-0c7091187fa1",
   "metadata": {},
   "outputs": [],
   "source": []
  },
  {
   "cell_type": "markdown",
   "id": "5240e343-f64f-41bc-aeaa-33d760c4b143",
   "metadata": {
    "tags": []
   },
   "source": [
    "# **Sentiment**"
   ]
  },
  {
   "cell_type": "markdown",
   "id": "60575cee-5a21-4685-a790-73f5b91ebb44",
   "metadata": {},
   "source": [
    "## Apply Model"
   ]
  },
  {
   "cell_type": "code",
   "execution_count": 67,
   "id": "55ccb29a-5d42-478c-873d-9a9fcc1bfe88",
   "metadata": {
    "tags": []
   },
   "outputs": [],
   "source": [
    "from transformers import pipeline\n",
    "\n",
    "# Load the sentiment analysis pipeline\n",
    "pipe = pipeline(\"sentiment-analysis\", model=\"distilbert-base-uncased-finetuned-sst-2-english\")\n",
    "\n",
    "# Make sure all entries in the 'text' column are strings\n",
    "reviews_df['review_text'] = reviews_df['review_text'].astype(str)\n",
    "\n",
    "# Apply the pipeline to each review\n",
    "reviews_df['review_predictions'] = reviews_df['review_text'].apply(lambda x: pipe(x, truncation=True)) \n",
    "\n",
    "# Extract the label and score from the predictions\n",
    "reviews_df['review_label'] = reviews_df['review_predictions'].apply(lambda x: x[0]['label'])\n",
    "reviews_df['review_score'] = reviews_df['review_predictions'].apply(lambda x: x[0]['score'])"
   ]
  },
  {
   "cell_type": "code",
   "execution_count": 69,
   "id": "585136b9-566d-4f21-b703-9dbf10328292",
   "metadata": {
    "tags": []
   },
   "outputs": [
    {
     "data": {
      "text/html": [
       "<div>\n",
       "<style scoped>\n",
       "    .dataframe tbody tr th:only-of-type {\n",
       "        vertical-align: middle;\n",
       "    }\n",
       "\n",
       "    .dataframe tbody tr th {\n",
       "        vertical-align: top;\n",
       "    }\n",
       "\n",
       "    .dataframe thead th {\n",
       "        text-align: right;\n",
       "    }\n",
       "</style>\n",
       "<table border=\"1\" class=\"dataframe\">\n",
       "  <thead>\n",
       "    <tr style=\"text-align: right;\">\n",
       "      <th></th>\n",
       "      <th>timestamp</th>\n",
       "      <th>author</th>\n",
       "      <th>user_id</th>\n",
       "      <th>review_text</th>\n",
       "      <th>rating</th>\n",
       "      <th>file_name</th>\n",
       "      <th>place_id</th>\n",
       "      <th>ParkName_x</th>\n",
       "      <th>Lat_x</th>\n",
       "      <th>Long_x</th>\n",
       "      <th>ParkName_y</th>\n",
       "      <th>Lat_y</th>\n",
       "      <th>Long_y</th>\n",
       "      <th>review_predictions</th>\n",
       "      <th>review_label</th>\n",
       "      <th>review_score</th>\n",
       "    </tr>\n",
       "  </thead>\n",
       "  <tbody>\n",
       "    <tr>\n",
       "      <th>0</th>\n",
       "      <td>02/11/2024 15:59:38</td>\n",
       "      <td>Heidy Fernandez</td>\n",
       "      <td>103360372037270387417</td>\n",
       "      <td>nan</td>\n",
       "      <td>5</td>\n",
       "      <td>reviews\\ChIJ-5kFm5vIxokR8VHXewCN8eY_Delancey_P...</td>\n",
       "      <td>ChIJ-5kFm5vIxokR8VHXewCN8eY</td>\n",
       "      <td>Delancey Park</td>\n",
       "      <td>39.94408</td>\n",
       "      <td>-75.1479</td>\n",
       "      <td>Delancey Park</td>\n",
       "      <td>39.94408</td>\n",
       "      <td>-75.1479</td>\n",
       "      <td>[{'label': 'POSITIVE', 'score': 0.954146504402...</td>\n",
       "      <td>POSITIVE</td>\n",
       "      <td>0.954147</td>\n",
       "    </tr>\n",
       "    <tr>\n",
       "      <th>1</th>\n",
       "      <td>01/26/2024 22:16:50</td>\n",
       "      <td>R J</td>\n",
       "      <td>103202524746831207554</td>\n",
       "      <td>nan</td>\n",
       "      <td>5</td>\n",
       "      <td>reviews\\ChIJ-5kFm5vIxokR8VHXewCN8eY_Delancey_P...</td>\n",
       "      <td>ChIJ-5kFm5vIxokR8VHXewCN8eY</td>\n",
       "      <td>Delancey Park</td>\n",
       "      <td>39.94408</td>\n",
       "      <td>-75.1479</td>\n",
       "      <td>Delancey Park</td>\n",
       "      <td>39.94408</td>\n",
       "      <td>-75.1479</td>\n",
       "      <td>[{'label': 'POSITIVE', 'score': 0.954146504402...</td>\n",
       "      <td>POSITIVE</td>\n",
       "      <td>0.954147</td>\n",
       "    </tr>\n",
       "    <tr>\n",
       "      <th>2</th>\n",
       "      <td>12/30/2023 19:08:54</td>\n",
       "      <td>Eleni Belisonzi</td>\n",
       "      <td>106030427780813104531</td>\n",
       "      <td>A neighbor jewel.</td>\n",
       "      <td>5</td>\n",
       "      <td>reviews\\ChIJ-5kFm5vIxokR8VHXewCN8eY_Delancey_P...</td>\n",
       "      <td>ChIJ-5kFm5vIxokR8VHXewCN8eY</td>\n",
       "      <td>Delancey Park</td>\n",
       "      <td>39.94408</td>\n",
       "      <td>-75.1479</td>\n",
       "      <td>Delancey Park</td>\n",
       "      <td>39.94408</td>\n",
       "      <td>-75.1479</td>\n",
       "      <td>[{'label': 'POSITIVE', 'score': 0.995235741138...</td>\n",
       "      <td>POSITIVE</td>\n",
       "      <td>0.995236</td>\n",
       "    </tr>\n",
       "    <tr>\n",
       "      <th>3</th>\n",
       "      <td>09/05/2023 14:40:24</td>\n",
       "      <td>Tom Donald</td>\n",
       "      <td>110477736284587831432</td>\n",
       "      <td>nan</td>\n",
       "      <td>5</td>\n",
       "      <td>reviews\\ChIJ-5kFm5vIxokR8VHXewCN8eY_Delancey_P...</td>\n",
       "      <td>ChIJ-5kFm5vIxokR8VHXewCN8eY</td>\n",
       "      <td>Delancey Park</td>\n",
       "      <td>39.94408</td>\n",
       "      <td>-75.1479</td>\n",
       "      <td>Delancey Park</td>\n",
       "      <td>39.94408</td>\n",
       "      <td>-75.1479</td>\n",
       "      <td>[{'label': 'POSITIVE', 'score': 0.954146504402...</td>\n",
       "      <td>POSITIVE</td>\n",
       "      <td>0.954147</td>\n",
       "    </tr>\n",
       "    <tr>\n",
       "      <th>4</th>\n",
       "      <td>08/18/2023 19:13:19</td>\n",
       "      <td>Evan Gray</td>\n",
       "      <td>117127716926195155753</td>\n",
       "      <td>nan</td>\n",
       "      <td>5</td>\n",
       "      <td>reviews\\ChIJ-5kFm5vIxokR8VHXewCN8eY_Delancey_P...</td>\n",
       "      <td>ChIJ-5kFm5vIxokR8VHXewCN8eY</td>\n",
       "      <td>Delancey Park</td>\n",
       "      <td>39.94408</td>\n",
       "      <td>-75.1479</td>\n",
       "      <td>Delancey Park</td>\n",
       "      <td>39.94408</td>\n",
       "      <td>-75.1479</td>\n",
       "      <td>[{'label': 'POSITIVE', 'score': 0.954146504402...</td>\n",
       "      <td>POSITIVE</td>\n",
       "      <td>0.954147</td>\n",
       "    </tr>\n",
       "  </tbody>\n",
       "</table>\n",
       "</div>"
      ],
      "text/plain": [
       "             timestamp           author                user_id  \\\n",
       "0  02/11/2024 15:59:38  Heidy Fernandez  103360372037270387417   \n",
       "1  01/26/2024 22:16:50              R J  103202524746831207554   \n",
       "2  12/30/2023 19:08:54  Eleni Belisonzi  106030427780813104531   \n",
       "3  09/05/2023 14:40:24       Tom Donald  110477736284587831432   \n",
       "4  08/18/2023 19:13:19        Evan Gray  117127716926195155753   \n",
       "\n",
       "         review_text  rating  \\\n",
       "0                nan       5   \n",
       "1                nan       5   \n",
       "2  A neighbor jewel.       5   \n",
       "3                nan       5   \n",
       "4                nan       5   \n",
       "\n",
       "                                           file_name  \\\n",
       "0  reviews\\ChIJ-5kFm5vIxokR8VHXewCN8eY_Delancey_P...   \n",
       "1  reviews\\ChIJ-5kFm5vIxokR8VHXewCN8eY_Delancey_P...   \n",
       "2  reviews\\ChIJ-5kFm5vIxokR8VHXewCN8eY_Delancey_P...   \n",
       "3  reviews\\ChIJ-5kFm5vIxokR8VHXewCN8eY_Delancey_P...   \n",
       "4  reviews\\ChIJ-5kFm5vIxokR8VHXewCN8eY_Delancey_P...   \n",
       "\n",
       "                      place_id     ParkName_x     Lat_x   Long_x  \\\n",
       "0  ChIJ-5kFm5vIxokR8VHXewCN8eY  Delancey Park  39.94408 -75.1479   \n",
       "1  ChIJ-5kFm5vIxokR8VHXewCN8eY  Delancey Park  39.94408 -75.1479   \n",
       "2  ChIJ-5kFm5vIxokR8VHXewCN8eY  Delancey Park  39.94408 -75.1479   \n",
       "3  ChIJ-5kFm5vIxokR8VHXewCN8eY  Delancey Park  39.94408 -75.1479   \n",
       "4  ChIJ-5kFm5vIxokR8VHXewCN8eY  Delancey Park  39.94408 -75.1479   \n",
       "\n",
       "      ParkName_y     Lat_y   Long_y  \\\n",
       "0  Delancey Park  39.94408 -75.1479   \n",
       "1  Delancey Park  39.94408 -75.1479   \n",
       "2  Delancey Park  39.94408 -75.1479   \n",
       "3  Delancey Park  39.94408 -75.1479   \n",
       "4  Delancey Park  39.94408 -75.1479   \n",
       "\n",
       "                                  review_predictions review_label  \\\n",
       "0  [{'label': 'POSITIVE', 'score': 0.954146504402...     POSITIVE   \n",
       "1  [{'label': 'POSITIVE', 'score': 0.954146504402...     POSITIVE   \n",
       "2  [{'label': 'POSITIVE', 'score': 0.995235741138...     POSITIVE   \n",
       "3  [{'label': 'POSITIVE', 'score': 0.954146504402...     POSITIVE   \n",
       "4  [{'label': 'POSITIVE', 'score': 0.954146504402...     POSITIVE   \n",
       "\n",
       "   review_score  \n",
       "0      0.954147  \n",
       "1      0.954147  \n",
       "2      0.995236  \n",
       "3      0.954147  \n",
       "4      0.954147  "
      ]
     },
     "execution_count": 69,
     "metadata": {},
     "output_type": "execute_result"
    }
   ],
   "source": [
    "reviews_df.head()"
   ]
  }
 ],
 "metadata": {
  "kernelspec": {
   "display_name": "Python 3 (ipykernel)",
   "language": "python",
   "name": "python3"
  },
  "language_info": {
   "codemirror_mode": {
    "name": "ipython",
    "version": 3
   },
   "file_extension": ".py",
   "mimetype": "text/x-python",
   "name": "python",
   "nbconvert_exporter": "python",
   "pygments_lexer": "ipython3",
   "version": "3.10.12"
  }
 },
 "nbformat": 4,
 "nbformat_minor": 5
}
